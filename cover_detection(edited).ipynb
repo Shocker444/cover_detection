{
 "cells": [
  {
   "cell_type": "code",
   "execution_count": 11,
   "id": "a899177c",
   "metadata": {
    "ExecuteTime": {
     "end_time": "2023-03-21T22:17:44.626328Z",
     "start_time": "2023-03-21T22:17:44.597325Z"
    }
   },
   "outputs": [],
   "source": [
    "import os\n",
    "import matplotlib.pyplot as plt\n",
    "import cv2\n",
    "import numpy as np\n",
    "from scipy.spatial import distance as dist\n",
    "import tensorflow as tf\n",
    "from object_detection.utils import label_map_util\n",
    "from object_detection.utils import visualization_utils as viz_utils\n",
    "from object_detection.utils import ops as utils_ops\n",
    "from object_detection.utils import config_util\n",
    "from object_detection.builders import model_builder\n",
    "\n",
    "tf.get_logger().setLevel('ERROR')"
   ]
  },
  {
   "cell_type": "code",
   "execution_count": 3,
   "id": "b87894ed",
   "metadata": {
    "ExecuteTime": {
     "end_time": "2023-03-21T20:24:54.857996Z",
     "start_time": "2023-03-21T20:24:54.844999Z"
    }
   },
   "outputs": [],
   "source": [
    "label_map = 'label_map.pbtxt'\n",
    "config_path = r'model_config\\pipeline.config'"
   ]
  },
  {
   "cell_type": "code",
   "execution_count": 4,
   "id": "6249bcb0",
   "metadata": {
    "ExecuteTime": {
     "end_time": "2023-03-21T20:25:01.153944Z",
     "start_time": "2023-03-21T20:25:00.582955Z"
    }
   },
   "outputs": [
    {
     "data": {
      "text/plain": [
       "<tensorflow.python.checkpoint.checkpoint.CheckpointLoadStatus at 0x207203579d0>"
      ]
     },
     "execution_count": 4,
     "metadata": {},
     "output_type": "execute_result"
    }
   ],
   "source": [
    "configs = config_util.get_configs_from_pipeline_file(config_path)\n",
    "detection_model = model_builder.build(model_config=configs['model'], is_training=False)\n",
    "\n",
    "ckpt = tf.compat.v2.train.Checkpoint(model=detection_model)\n",
    "ckpt.restore(os.path.join('model_config', 'ckpt-6')).expect_partial()"
   ]
  },
  {
   "cell_type": "code",
   "execution_count": 5,
   "id": "bc9d3783",
   "metadata": {
    "ExecuteTime": {
     "end_time": "2023-03-21T20:25:03.613947Z",
     "start_time": "2023-03-21T20:25:03.587952Z"
    }
   },
   "outputs": [],
   "source": [
    "@tf.function\n",
    "def detect_image(image):\n",
    "    images, shapes = detection_model.preprocess(image)\n",
    "    prediction_dict = detection_model.predict(images, shapes)\n",
    "    detections = detection_model.postprocess(prediction_dict, shapes)\n",
    "    return detections"
   ]
  },
  {
   "cell_type": "code",
   "execution_count": 6,
   "id": "e14a61d7",
   "metadata": {
    "ExecuteTime": {
     "end_time": "2023-03-21T20:25:04.375197Z",
     "start_time": "2023-03-21T20:25:04.334197Z"
    }
   },
   "outputs": [],
   "source": [
    "category_index = label_map_util.create_category_index_from_labelmap(label_map)"
   ]
  },
  {
   "cell_type": "code",
   "execution_count": 7,
   "id": "413233b0",
   "metadata": {
    "ExecuteTime": {
     "end_time": "2023-03-21T20:25:05.023196Z",
     "start_time": "2023-03-21T20:25:04.996200Z"
    }
   },
   "outputs": [],
   "source": [
    "def midpoint(coords):\n",
    "    return ((coords[0] + coords[2])*0.5, (coords[1]+coords[3])*0.5)\n",
    "\n",
    "def midline(ptA, ptB):\n",
    "    return ((ptA[0] + ptB[0]) * 0.5, (ptA[1] + ptB[1]) * 0.5)"
   ]
  },
  {
   "cell_type": "code",
   "execution_count": 8,
   "id": "7218077a",
   "metadata": {
    "ExecuteTime": {
     "end_time": "2023-03-21T20:25:05.942196Z",
     "start_time": "2023-03-21T20:25:05.876197Z"
    }
   },
   "outputs": [],
   "source": [
    "def display(frame):\n",
    "    img = np.array(frame)\n",
    "    h = tf.shape(img)[0]\n",
    "    w = tf.shape(img)[1]\n",
    "    input_tensor = tf.convert_to_tensor(np.expand_dims(img, 0), dtype=tf.float32)\n",
    "\n",
    "    scores = []\n",
    "    coordinates = []\n",
    "    detections = detect_image(input_tensor)\n",
    "\n",
    "    num_detections = int(detections.pop('num_detections'))\n",
    "    detections = {key: value[0, :num_detections].numpy() for key, value in detections.items()}\n",
    "\n",
    "\n",
    "    detections['num_detections'] = num_detections\n",
    "\n",
    "    detections['detection_classes'] = detections['detection_classes'].astype(np.int64)\n",
    "\n",
    "    for i in range(num_detections):\n",
    "        if detections['detection_scores'][i]  > 0.7:\n",
    "            scores.append(detections['detection_scores'][i])\n",
    "            coordinates.append(detections['detection_boxes'][i])\n",
    "    coords = {}\n",
    "    midpoints = {}\n",
    "    for i in range(len(coordinates)):\n",
    "        coords[f\"{i}\"] = np.multiply(coordinates[i], [h, w, h, w])\n",
    "        coords[f\"{i}\"] = coords[f\"{i}\"][::-1]\n",
    "        midpoints[f\"{i}\"] = midpoint(coords[f\"{i}\"])\n",
    "    \n",
    "    pivot = midpoints['0']\n",
    "    print(pivot)   \n",
    "    for i in range(len(coords)):\n",
    "        d = dist.euclidean(pivot, midpoints[f\"{i}\"])\n",
    "        if d > 1.0:\n",
    "            d_in_centimeters = d*(28.57/np.array(w))\n",
    "    label_id_offset = 1\n",
    "    image_np_with_detections = img.copy()\n",
    "    \n",
    "    viz_utils.visualize_boxes_and_labels_on_image_array(\n",
    "        image_np_with_detections,\n",
    "        detections['detection_boxes'],\n",
    "        detections['detection_classes']+label_id_offset,\n",
    "        detections['detection_scores'],\n",
    "        category_index,\n",
    "        use_normalized_coordinates=True,\n",
    "        max_boxes_to_draw = 5,\n",
    "        min_score_thresh = 0.7,\n",
    "        agnostic_mode=False\n",
    "    )\n",
    "    cv2.circle(image_np_with_detections, np.array(pivot).astype(int), 10, (240, 0, 159), -1)\n",
    "    \n",
    "    for i in range(len(midpoints) - 1):\n",
    "        cv2.circle(image_np_with_detections, np.array(midpoints[f\"{i+1}\"]).astype(int), 10, (240, 0, 159), -1)\n",
    "      \n",
    "        cv2.line(image_np_with_detections, np.array(pivot).astype(int),\n",
    "                 np.array(midpoints[f\"{i+1}\"]).astype(int), (240, 0, 159), 3)\n",
    "        mx, my = midline(pivot, midpoints[f\"{i+1}\"])\n",
    "        cv2.putText(image_np_with_detections, \"{:.1f}cm\".format(d_in_centimeters), (int(mx), int(my+20)),\n",
    "               cv2.FONT_HERSHEY_SIMPLEX, 0.79, (240, 0, 159), 2)\n",
    "        \n",
    "    return image_np_with_detections"
   ]
  },
  {
   "cell_type": "code",
   "execution_count": 9,
   "id": "b97091d6",
   "metadata": {
    "ExecuteTime": {
     "end_time": "2023-03-21T20:26:41.194737Z",
     "start_time": "2023-03-21T20:25:06.616201Z"
    }
   },
   "outputs": [
    {
     "name": "stdout",
     "output_type": "stream",
     "text": [
      "(1027.9853439331055, 549.3960785865784)\n",
      "(1020.2499675750732, 549.5605516433716)\n",
      "(1014.7858428955078, 549.1050964593887)\n",
      "(1009.3914413452148, 549.3159180879593)\n",
      "(1006.882209777832, 550.0451517105103)\n",
      "(1000.1617813110352, 549.8967558145523)\n",
      "(998.0574131011963, 551.5611362457275)\n",
      "(985.1931095123291, 554.5287483930588)\n",
      "(977.0895481109619, 557.9789972305298)\n",
      "(972.1593475341797, 559.0154027938843)\n",
      "(967.9445171356201, 566.0334938764572)\n",
      "(965.7195281982422, 570.0502252578735)\n",
      "(967.1874332427979, 573.8768792152405)\n",
      "(961.9137954711914, 579.2887669801712)\n",
      "(965.593957901001, 579.9753856658936)\n",
      "(966.2694454193115, 581.4763230085373)\n",
      "(966.0959243774414, 583.3514446020126)\n",
      "(966.6233825683594, 584.5263808965683)\n",
      "(967.9680919647217, 585.1937359571457)\n",
      "(969.8939895629883, 584.5196056365967)\n",
      "(973.912239074707, 584.4683647155762)\n",
      "(981.0898590087891, 586.4752578735352)\n",
      "(989.24560546875, 588.3225864171982)\n",
      "(997.7882766723633, 588.6016273498535)\n",
      "(1009.3202590942383, 588.7866353988647)\n",
      "(1015.7979583740234, 597.6884418725967)\n",
      "(1025.1701259613037, 604.7147727012634)\n",
      "(1039.4448852539062, 611.9488835334778)\n",
      "(1044.264907836914, 618.6315107345581)\n",
      "(1044.1492080688477, 627.406325340271)\n",
      "(1049.3615341186523, 632.7152323722839)\n",
      "(1051.6524124145508, 639.5927810668945)\n",
      "(1053.3924865722656, 648.6944818496704)\n",
      "(1058.1005859375, 654.9771595001221)\n",
      "(1061.9217681884766, 669.5250105857849)\n",
      "(1063.0804824829102, 681.6942143440247)\n",
      "(1060.2896118164062, 680.6985569000244)\n",
      "(1036.9248676300049, 685.5155897140503)\n",
      "(1023.497200012207, 697.271454334259)\n",
      "(1028.0968379974365, 714.3068075180054)\n",
      "(1043.2902145385742, 726.0559773445129)\n",
      "(1045.4475402832031, 734.8448252677917)\n",
      "(1046.0163116455078, 741.1802244186401)\n",
      "(1050.7204055786133, 752.1448159217834)\n",
      "(1048.3652114868164, 762.0409440994263)\n",
      "(1050.5219650268555, 768.4433555603027)\n",
      "(1050.5243682861328, 772.2525000572205)\n",
      "(1049.7898864746094, 778.0758118629456)\n",
      "(1052.7220916748047, 782.078332901001)\n",
      "(1058.1861877441406, 785.3610348701477)\n",
      "(1061.5070343017578, 786.4114737510681)\n",
      "(1058.1754302978516, 792.6633810997009)\n",
      "(1069.9485397338867, 793.258638381958)\n",
      "(1071.1618423461914, 798.4044241905212)\n",
      "(1078.5146713256836, 800.0700759887695)\n",
      "(1081.8389511108398, 802.6988124847412)\n",
      "(1090.1672744750977, 807.0358157157898)\n",
      "(1099.027976989746, 808.3558487892151)\n",
      "(1106.9660568237305, 809.3269157409668)\n",
      "(1112.2875595092773, 807.2039580345154)\n",
      "(1126.929588317871, 809.5923256874084)\n",
      "(1145.9196853637695, 806.1246800422668)\n",
      "(1153.9023971557617, 802.9273366928101)\n",
      "(1158.3594131469727, 801.5838074684143)\n",
      "(1170.022087097168, 797.4961853027344)\n",
      "(1180.9502792358398, 794.3948864936829)\n",
      "(1187.8847122192383, 787.5882768630981)\n",
      "(1191.093978881836, 781.1993193626404)\n",
      "(1196.7070770263672, 771.6502904891968)\n",
      "(1203.1846618652344, 767.0024299621582)\n",
      "(1207.9522705078125, 764.0439748764038)\n",
      "(1209.8424911499023, 766.1689925193787)\n",
      "(1217.691535949707, 770.5553698539734)\n",
      "(1223.1801223754883, 775.5997681617737)\n",
      "(1224.5592498779297, 781.4760589599609)\n",
      "(1226.6468811035156, 788.1160068511963)\n",
      "(1219.672966003418, 793.3446407318115)\n",
      "(1208.254508972168, 798.3814430236816)\n",
      "(1197.3627090454102, 807.3841381072998)\n",
      "(1182.9559707641602, 815.9207081794739)\n",
      "(855.7147407531738, 479.74754869937897)\n",
      "(1145.522804260254, 830.244026184082)\n",
      "(1129.9610137939453, 842.4378204345703)\n",
      "(1115.1800537109375, 851.3352012634277)\n",
      "(1110.571174621582, 856.9254183769226)\n",
      "(1108.0129623413086, 865.4827165603638)\n",
      "(1107.3733520507812, 874.5969700813293)\n",
      "(1108.787956237793, 878.5385298728943)\n",
      "(1111.5531921386719, 882.9046297073364)\n",
      "(1120.0650787353516, 884.3971824645996)\n",
      "(1125.8475494384766, 884.3381524085999)\n",
      "(1131.8356704711914, 883.9025402069092)\n",
      "(1138.1957244873047, 879.7641921043396)\n",
      "(1142.255744934082, 872.7991604804993)\n",
      "(1146.8507766723633, 866.4766359329224)\n",
      "(1149.858741760254, 858.8189506530762)\n",
      "(1153.8076400756836, 851.9600701332092)\n",
      "(1154.6771621704102, 847.9843926429749)\n",
      "(1154.7296905517578, 846.148796081543)\n",
      "(1151.5544128417969, 844.1162180900574)\n",
      "(1150.2326202392578, 843.275957107544)\n",
      "(1147.7327728271484, 842.46009349823)\n",
      "(1139.5064163208008, 843.1674885749817)\n",
      "(1135.2122497558594, 842.9880166053772)\n",
      "(1129.6893310546875, 843.695604801178)\n",
      "(1122.0703125, 844.4870710372925)\n",
      "(1115.2495193481445, 842.4181222915649)\n",
      "(1112.563591003418, 844.3295502662659)\n",
      "(1112.310562133789, 844.2000317573547)\n",
      "(1113.1111907958984, 844.2774724960327)\n",
      "(1117.3053359985352, 844.3459010124207)\n",
      "(1118.9625549316406, 843.9397072792053)\n",
      "(1121.2926864624023, 844.2815923690796)\n",
      "(1123.0842590332031, 845.1797890663147)\n",
      "(1129.742774963379, 844.9696755409241)\n",
      "(1131.3880920410156, 844.7155952453613)\n",
      "(1128.5976791381836, 844.1111326217651)\n",
      "(1132.2316360473633, 841.4624404907227)\n",
      "(1126.6725540161133, 840.2209424972534)\n",
      "(1122.275619506836, 839.3345904350281)\n",
      "(1118.5575485229492, 840.9368348121643)\n",
      "(1113.8218688964844, 838.9871692657471)\n",
      "(1111.2642288208008, 838.3449196815491)\n",
      "(1110.6858444213867, 833.176281452179)\n",
      "(1106.3210678100586, 827.7017426490784)\n",
      "(1106.4381408691406, 823.5124111175537)\n",
      "(1112.3598861694336, 819.243643283844)\n",
      "(1120.832862854004, 819.8197174072266)\n",
      "(1128.1915283203125, 823.090832233429)\n",
      "(1135.806770324707, 828.3877658843994)\n",
      "(1140.0900650024414, 835.0600290298462)\n",
      "(1139.5063018798828, 841.1609816551208)\n",
      "(1133.4386444091797, 848.7888622283936)\n",
      "(1129.1148376464844, 854.6936058998108)\n",
      "(1121.2070846557617, 861.2720775604248)\n",
      "(1113.7030792236328, 868.5269808769226)\n",
      "(1103.4623336791992, 881.3037371635437)\n",
      "(1089.2443084716797, 891.7378950119019)\n",
      "(1082.017822265625, 899.1791582107544)\n",
      "(1075.327262878418, 907.9725766181946)\n",
      "(1075.8155822753906, 914.0144991874695)\n",
      "(1073.5784912109375, 918.7280201911926)\n",
      "(1069.603271484375, 923.5232305526733)\n",
      "(932.0286083221436, 573.4154373407364)\n",
      "(1060.3474044799805, 936.1364150047302)\n",
      "(1052.1722030639648, 945.6684494018555)\n",
      "(1037.8880310058594, 955.3692054748535)\n",
      "(1019.9917316436768, 959.694492816925)\n",
      "(1007.290449142456, 962.8333210945129)\n",
      "(992.7167129516602, 966.4347338676453)\n"
     ]
    }
   ],
   "source": [
    "video_path = 'vid3.mp4'\n",
    "src = cv2.VideoCapture(str(video_path))\n",
    "video_length = src.get(cv2.CAP_PROP_FRAME_COUNT)\n",
    "\n",
    "# get 150 frames\n",
    "for i in range(150):\n",
    "    ret, frame = src.read()\n",
    "    if ret:\n",
    "        image_np = display(frame)\n",
    "        # Display output\n",
    "        cv2.imshow('object detection', cv2.resize(image_np, (800, 600)))\n",
    "\n",
    "        if cv2.waitKey(25) & 0xFF == ord('q'):\n",
    "            break\n",
    "\n",
    "src.release()\n",
    "cv2.destroyAllWindows()\n",
    "        "
   ]
  },
  {
   "cell_type": "code",
   "execution_count": null,
   "id": "77ae18c6",
   "metadata": {},
   "outputs": [],
   "source": []
  }
 ],
 "metadata": {
  "kernelspec": {
   "display_name": "Python 3 (ipykernel)",
   "language": "python",
   "name": "python3"
  },
  "language_info": {
   "codemirror_mode": {
    "name": "ipython",
    "version": 3
   },
   "file_extension": ".py",
   "mimetype": "text/x-python",
   "name": "python",
   "nbconvert_exporter": "python",
   "pygments_lexer": "ipython3",
   "version": "3.9.0"
  },
  "varInspector": {
   "cols": {
    "lenName": 16,
    "lenType": 16,
    "lenVar": 40
   },
   "kernels_config": {
    "python": {
     "delete_cmd_postfix": "",
     "delete_cmd_prefix": "del ",
     "library": "var_list.py",
     "varRefreshCmd": "print(var_dic_list())"
    },
    "r": {
     "delete_cmd_postfix": ") ",
     "delete_cmd_prefix": "rm(",
     "library": "var_list.r",
     "varRefreshCmd": "cat(var_dic_list()) "
    }
   },
   "types_to_exclude": [
    "module",
    "function",
    "builtin_function_or_method",
    "instance",
    "_Feature"
   ],
   "window_display": false
  }
 },
 "nbformat": 4,
 "nbformat_minor": 5
}

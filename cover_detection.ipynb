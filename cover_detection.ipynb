{
 "cells": [
  {
   "cell_type": "code",
   "execution_count": 1,
   "id": "9dcc859d",
   "metadata": {
    "ExecuteTime": {
     "end_time": "2023-03-20T15:36:28.092936Z",
     "start_time": "2023-03-20T15:34:44.158786Z"
    }
   },
   "outputs": [],
   "source": [
    "import os\n",
    "import pathlib\n",
    "import matplotlib.pyplot as plt\n",
    "import cv2\n",
    "import json\n",
    "import albumentations as alb\n",
    "import numpy as np\n",
    "import tensorflow as tf\n",
    "\n",
    "tf.get_logger().setLevel('ERROR')\n",
    "\n",
    "from object_detection.utils import label_map_util\n",
    "from object_detection.utils import visualization_utils as viz_utils\n",
    "from object_detection.utils import ops as utils_ops\n",
    "from object_detection.utils import config_util\n",
    "from object_detection.builders import model_builder\n",
    "\n",
    "%matplotlib inline"
   ]
  },
  {
   "cell_type": "code",
   "execution_count": null,
   "id": "63a88c6c",
   "metadata": {
    "ExecuteTime": {
     "end_time": "2023-03-17T07:12:20.171010Z",
     "start_time": "2023-03-17T07:12:20.171010Z"
    }
   },
   "outputs": [],
   "source": [
    "cv2.__version__"
   ]
  },
  {
   "cell_type": "code",
   "execution_count": 3,
   "id": "14e08d92-0d6d-4776-966c-e3863b07be6b",
   "metadata": {
    "ExecuteTime": {
     "end_time": "2023-03-17T07:13:42.936095Z",
     "start_time": "2023-03-17T07:12:41.470732Z"
    }
   },
   "outputs": [],
   "source": [
    "!labelme"
   ]
  },
  {
   "cell_type": "markdown",
   "id": "761a2f9e-e9b5-4d12-b905-dc6e5794860f",
   "metadata": {},
   "source": [
    "## Augment images"
   ]
  },
  {
   "cell_type": "markdown",
   "id": "b40bc1bb",
   "metadata": {},
   "source": [
    "#### Note I've taken few pictures, splitted them into train and validation sets and made annotations using labelme. Now I'm going to multiply them using augmentation."
   ]
  },
  {
   "cell_type": "code",
   "execution_count": 17,
   "id": "6dfc6c45-aa02-48f9-8389-3ca133d092f5",
   "metadata": {
    "ExecuteTime": {
     "end_time": "2023-03-16T20:31:51.459176Z",
     "start_time": "2023-03-16T20:31:51.446165Z"
    }
   },
   "outputs": [],
   "source": [
    "augmentor = alb.Compose([alb.Resize(512, 512, always_apply=True),\n",
    "                         alb.RandomCrop(500, 500, p=0.5),\n",
    "                       alb.HorizontalFlip(p=0.5),\n",
    "                        alb.RandomGamma(p=0.2),\n",
    "                        alb.RGBShift(p=0.2),\n",
    "                        alb.VerticalFlip(p=0.5)],\n",
    "                       bbox_params=alb.BboxParams(format='pascal_voc',\n",
    "                                       label_fields=['class_labels']))"
   ]
  },
  {
   "cell_type": "code",
   "execution_count": 18,
   "id": "a8dd1d4c",
   "metadata": {
    "ExecuteTime": {
     "end_time": "2023-03-16T20:31:52.203434Z",
     "start_time": "2023-03-16T20:31:52.106134Z"
    }
   },
   "outputs": [],
   "source": [
    "# testing the augmentor\n",
    "test_img = cv2.imread(os.path.join('train', 'images', '0.jpg'))\n",
    "h = tf.shape(test_img)[0]\n",
    "w = tf.shape(test_img)[0]"
   ]
  },
  {
   "cell_type": "code",
   "execution_count": 19,
   "id": "5303d3af",
   "metadata": {
    "ExecuteTime": {
     "end_time": "2023-03-16T20:31:52.762275Z",
     "start_time": "2023-03-16T20:31:52.727269Z"
    }
   },
   "outputs": [
    {
     "name": "stdout",
     "output_type": "stream",
     "text": [
      "[[233.00729927007302, 299.79562043795625], [255.63503649635038, 338.48175182481754]]\n"
     ]
    },
    {
     "data": {
      "text/plain": [
       "<tf.Tensor: shape=(4,), dtype=float32, numpy=array([233.0073 , 299.79562, 255.63504, 338.48175], dtype=float32)>"
      ]
     },
     "execution_count": 19,
     "metadata": {},
     "output_type": "execute_result"
    }
   ],
   "source": [
    "file = open(os.path.join('train', 'labels', '0.json'), 'r')\n",
    "label = json.load(file)\n",
    "print(label['shapes'][0]['points'])\n",
    "coords = tf.concat(label['shapes'][0]['points'], 0)\n",
    "coords"
   ]
  },
  {
   "cell_type": "code",
   "execution_count": 20,
   "id": "cb1b6842",
   "metadata": {
    "ExecuteTime": {
     "end_time": "2023-03-16T20:31:53.299144Z",
     "start_time": "2023-03-16T20:31:53.251263Z"
    },
    "collapsed": true
   },
   "outputs": [
    {
     "data": {
      "text/plain": [
       "{'image': array([[[ 58,  65,  92],\n",
       "         [ 57,  64,  91],\n",
       "         [ 54,  63,  90],\n",
       "         ...,\n",
       "         [ 56,  71, 117],\n",
       "         [ 58,  73, 119],\n",
       "         [ 59,  74, 120]],\n",
       " \n",
       "        [[ 56,  65,  92],\n",
       "         [ 56,  65,  92],\n",
       "         [ 55,  64,  91],\n",
       "         ...,\n",
       "         [ 56,  71, 117],\n",
       "         [ 59,  72, 118],\n",
       "         [ 60,  73, 119]],\n",
       " \n",
       "        [[ 57,  66,  93],\n",
       "         [ 57,  66,  93],\n",
       "         [ 57,  66,  93],\n",
       "         ...,\n",
       "         [ 56,  71, 117],\n",
       "         [ 58,  71, 117],\n",
       "         [ 58,  71, 117]],\n",
       " \n",
       "        ...,\n",
       " \n",
       "        [[ 59,  80, 108],\n",
       "         [ 60,  81, 109],\n",
       "         [ 59,  81, 109],\n",
       "         ...,\n",
       "         [ 45,  48,  63],\n",
       "         [ 43,  48,  63],\n",
       "         [ 44,  49,  64]],\n",
       " \n",
       "        [[ 59,  80, 108],\n",
       "         [ 60,  81, 109],\n",
       "         [ 59,  81, 109],\n",
       "         ...,\n",
       "         [ 44,  47,  62],\n",
       "         [ 43,  48,  63],\n",
       "         [ 44,  49,  64]],\n",
       " \n",
       "        [[ 60,  81, 109],\n",
       "         [ 60,  81, 109],\n",
       "         [ 60,  81, 109],\n",
       "         ...,\n",
       "         [ 44,  47,  61],\n",
       "         [ 43,  49,  62],\n",
       "         [ 45,  51,  64]]], dtype=uint8),\n",
       " 'bboxes': [(233.00729370117188,\n",
       "   164.51824951171872,\n",
       "   255.6350402832031,\n",
       "   203.20437622070315)],\n",
       " 'class_labels': ['cover']}"
      ]
     },
     "execution_count": 20,
     "metadata": {},
     "output_type": "execute_result"
    }
   ],
   "source": [
    "augmented = augmentor(image=test_img, bboxes=[coords], class_labels=['cover'])\n",
    "augmented"
   ]
  },
  {
   "cell_type": "code",
   "execution_count": 21,
   "id": "39b1bd2c",
   "metadata": {
    "ExecuteTime": {
     "end_time": "2023-03-16T20:31:54.275563Z",
     "start_time": "2023-03-16T20:31:53.834738Z"
    }
   },
   "outputs": [
    {
     "data": {
      "text/plain": [
       "<matplotlib.image.AxesImage at 0x1ba19910eb0>"
      ]
     },
     "execution_count": 21,
     "metadata": {},
     "output_type": "execute_result"
    },
    {
     "data": {
      "image/png": "[encoded data removed]",
      "text/plain": [
       "<Figure size 400x200 with 1 Axes>"
      ]
     },
     "metadata": {},
     "output_type": "display_data"
    }
   ],
   "source": [
    "plt.figure(figsize=(4, 2))\n",
    "cv2.rectangle(augmented['image'],\n",
    "              np.array(augmented['bboxes'][0][:2]).astype(int),\n",
    "              np.array(augmented['bboxes'][0][2:]).astype(int), (255, 0, 0), 2)\n",
    "\n",
    "plt.imshow(augmented['image'])"
   ]
  },
  {
   "cell_type": "code",
   "execution_count": 22,
   "id": "64eabf14-c3c0-4af1-bb96-bab263294e49",
   "metadata": {
    "ExecuteTime": {
     "end_time": "2023-03-16T20:32:00.610103Z",
     "start_time": "2023-03-16T20:32:00.563104Z"
    }
   },
   "outputs": [],
   "source": [
    "# Augmentation fuction\n",
    "def augment():\n",
    "    for partition in ['train', 'val']:\n",
    "        for image in os.listdir(os.path.join(partition, 'images')):\n",
    "            label_path = os.path.join(partition, 'labels', f\"{image.split('.')[0]}.json\")\n",
    "            img = cv2.imread(os.path.join(partition, 'images', image))\n",
    "            h = tf.shape(img)[0]\n",
    "            w = tf.shape(img)[1]\n",
    "            if os.path.exists(label_path):\n",
    "                with open(label_path) as f:\n",
    "                    label = json.load(f)\n",
    "                    \n",
    "            coords = tf.concat(label['shapes'][0]['points'], 0)\n",
    "        \n",
    "            annotations = {}\n",
    "        \n",
    "            try:\n",
    "                for i in range(60):\n",
    "                    if os.path.exists(label_path):\n",
    "                        augmented = augmentor(image=img, bboxes=[coords], class_labels = ['cover'])\n",
    "                        cv2.imwrite(os.path.join('preprocessed_pic', partition, f'{image.split(\".\")[0]}.{i}.jpg'), augmented['image'])\n",
    "\n",
    "\n",
    "                        annotations['filename'] = f'{image.split(\".\")[0]}.{i}.jpg'\n",
    "\n",
    "                        if len(augmented['bboxes']) == 0:\n",
    "\n",
    "                            annotations['bbox'] = [0, 0, 0, 0]\n",
    "                            annotations['class'] = 0\n",
    "                        else:\n",
    "                            annotations['bbox'] = list(augmented['bboxes'][0])\n",
    "                            annotations['class'] = 'cover'\n",
    "                    \n",
    "                    else:\n",
    "                        augmented = augmentor(image=img, bboxes=[coords], class_labels = ['Donny'])\n",
    "                        cv2.imwrite(os.path.join('preprocessed_pic', partition, f'{image.split(\".\")[0]}.{i}.jpg'), augmented['image'])\n",
    "\n",
    "\n",
    "                        annotations['bbox'] = [0, 0, 0, 0]\n",
    "                        annotations['class'] = 0\n",
    "\n",
    "                    with open(os.path.join('preprocessed_pic', partition, f'{image.split(\".\")[0]}.{i}.json'), 'w') as f:\n",
    "                        json.dump(annotations, f)\n",
    "\n",
    "\n",
    "            except Exception as e:\n",
    "                print(e)"
   ]
  },
  {
   "cell_type": "code",
   "execution_count": 23,
   "id": "96d36d8e-2ae1-450b-9b82-d02d030878d7",
   "metadata": {
    "ExecuteTime": {
     "end_time": "2023-03-16T20:33:14.011034Z",
     "start_time": "2023-03-16T20:32:01.510114Z"
    },
    "jupyter": {
     "outputs_hidden": true
    },
    "tags": []
   },
   "outputs": [],
   "source": [
    "augment()"
   ]
  },
  {
   "cell_type": "markdown",
   "id": "9d109461",
   "metadata": {},
   "source": [
    "## Create label map"
   ]
  },
  {
   "cell_type": "code",
   "execution_count": 2,
   "id": "0bdf0726",
   "metadata": {
    "ExecuteTime": {
     "end_time": "2023-03-20T15:36:28.138269Z",
     "start_time": "2023-03-20T15:36:28.113298Z"
    }
   },
   "outputs": [],
   "source": [
    "# create labels for classification\n",
    "label_map = 'label_map.pbtxt'\n",
    "labels = [{'name':'cover', 'id':1}]\n",
    "\n",
    "if not os.path.exists(label_map):\n",
    "    with open(label_map, 'w') as f:\n",
    "        for label in labels:\n",
    "            f.write('item { \\n')\n",
    "            f.write(f\"\\tname: '{label['name']}' \\n\")\n",
    "            f.write(f\"\\tid: {label['id']} \\n\")\n",
    "            f.write('}\\n')"
   ]
  },
  {
   "cell_type": "markdown",
   "id": "1540462e",
   "metadata": {},
   "source": [
    "## Create a TF record"
   ]
  },
  {
   "cell_type": "code",
   "execution_count": 25,
   "id": "8dd0db41",
   "metadata": {
    "ExecuteTime": {
     "end_time": "2023-03-16T20:33:14.464320Z",
     "start_time": "2023-03-16T20:33:14.304953Z"
    }
   },
   "outputs": [],
   "source": [
    "# create tf record which will be used for training\n",
    "tfrecord = os.path.join('Scripts', 'generate_tfrecord(json_augmented).py')\n",
    "csv = os.path.join('csv', 'trainrec.csv')"
   ]
  },
  {
   "cell_type": "code",
   "execution_count": 27,
   "id": "fabeeefc",
   "metadata": {
    "ExecuteTime": {
     "end_time": "2023-03-16T20:36:07.659878Z",
     "start_time": "2023-03-16T20:35:26.516977Z"
    }
   },
   "outputs": [
    {
     "name": "stdout",
     "output_type": "stream",
     "text": [
      "Successfully created the TFRecord file: annotations\\train.record\n",
      "Successfully created the CSV file: csv\\trainrec.csv\n",
      "Successfully created the TFRecord file: annotations\\val.record\n"
     ]
    }
   ],
   "source": [
    "!python {tfrecord} -j {os.path.join('preprocessed_pic', 'train')} -l {os.path.join(label_map)} -o {os.path.join('annotations', 'train.record')} -c {csv}\n",
    "!python {tfrecord} -j {os.path.join('preprocessed_pic', 'val')} -l {os.path.join(label_map)} -o {os.path.join('annotations', 'val.record')}"
   ]
  },
  {
   "cell_type": "markdown",
   "id": "d2e161e9",
   "metadata": {},
   "source": [
    "## Configure pretrainied model"
   ]
  },
  {
   "cell_type": "code",
   "execution_count": 3,
   "id": "6c64cebc-bea0-4adf-903d-a31de8a00c2c",
   "metadata": {
    "ExecuteTime": {
     "end_time": "2023-03-20T15:36:28.806007Z",
     "start_time": "2023-03-20T15:36:28.373811Z"
    },
    "collapsed": true
   },
   "outputs": [
    {
     "data": {
      "text/plain": [
       "{'model': ssd {\n",
       "   num_classes: 1\n",
       "   image_resizer {\n",
       "     fixed_shape_resizer {\n",
       "       height: 320\n",
       "       width: 320\n",
       "     }\n",
       "   }\n",
       "   feature_extractor {\n",
       "     type: \"ssd_mobilenet_v2_fpn_keras\"\n",
       "     depth_multiplier: 1.0\n",
       "     min_depth: 16\n",
       "     conv_hyperparams {\n",
       "       regularizer {\n",
       "         l2_regularizer {\n",
       "           weight: 3.9999998989515007e-05\n",
       "         }\n",
       "       }\n",
       "       initializer {\n",
       "         random_normal_initializer {\n",
       "           mean: 0.0\n",
       "           stddev: 0.009999999776482582\n",
       "         }\n",
       "       }\n",
       "       activation: RELU_6\n",
       "       batch_norm {\n",
       "         decay: 0.996999979019165\n",
       "         scale: true\n",
       "         epsilon: 0.0010000000474974513\n",
       "       }\n",
       "     }\n",
       "     use_depthwise: true\n",
       "     override_base_feature_extractor_hyperparams: true\n",
       "     fpn {\n",
       "       min_level: 3\n",
       "       max_level: 7\n",
       "       additional_layer_depth: 128\n",
       "     }\n",
       "   }\n",
       "   box_coder {\n",
       "     faster_rcnn_box_coder {\n",
       "       y_scale: 10.0\n",
       "       x_scale: 10.0\n",
       "       height_scale: 5.0\n",
       "       width_scale: 5.0\n",
       "     }\n",
       "   }\n",
       "   matcher {\n",
       "     argmax_matcher {\n",
       "       matched_threshold: 0.5\n",
       "       unmatched_threshold: 0.5\n",
       "       ignore_thresholds: false\n",
       "       negatives_lower_than_unmatched: true\n",
       "       force_match_for_each_row: true\n",
       "       use_matmul_gather: true\n",
       "     }\n",
       "   }\n",
       "   similarity_calculator {\n",
       "     iou_similarity {\n",
       "     }\n",
       "   }\n",
       "   box_predictor {\n",
       "     weight_shared_convolutional_box_predictor {\n",
       "       conv_hyperparams {\n",
       "         regularizer {\n",
       "           l2_regularizer {\n",
       "             weight: 3.9999998989515007e-05\n",
       "           }\n",
       "         }\n",
       "         initializer {\n",
       "           random_normal_initializer {\n",
       "             mean: 0.0\n",
       "             stddev: 0.009999999776482582\n",
       "           }\n",
       "         }\n",
       "         activation: RELU_6\n",
       "         batch_norm {\n",
       "           decay: 0.996999979019165\n",
       "           scale: true\n",
       "           epsilon: 0.0010000000474974513\n",
       "         }\n",
       "       }\n",
       "       depth: 128\n",
       "       num_layers_before_predictor: 4\n",
       "       kernel_size: 3\n",
       "       class_prediction_bias_init: -4.599999904632568\n",
       "       share_prediction_tower: true\n",
       "       use_depthwise: true\n",
       "     }\n",
       "   }\n",
       "   anchor_generator {\n",
       "     multiscale_anchor_generator {\n",
       "       min_level: 3\n",
       "       max_level: 7\n",
       "       anchor_scale: 4.0\n",
       "       aspect_ratios: 1.0\n",
       "       aspect_ratios: 2.0\n",
       "       aspect_ratios: 0.5\n",
       "       scales_per_octave: 2\n",
       "     }\n",
       "   }\n",
       "   post_processing {\n",
       "     batch_non_max_suppression {\n",
       "       score_threshold: 9.99999993922529e-09\n",
       "       iou_threshold: 0.6000000238418579\n",
       "       max_detections_per_class: 100\n",
       "       max_total_detections: 100\n",
       "       use_static_shapes: false\n",
       "     }\n",
       "     score_converter: SIGMOID\n",
       "   }\n",
       "   normalize_loss_by_num_matches: true\n",
       "   loss {\n",
       "     localization_loss {\n",
       "       weighted_smooth_l1 {\n",
       "       }\n",
       "     }\n",
       "     classification_loss {\n",
       "       weighted_sigmoid_focal {\n",
       "         gamma: 2.0\n",
       "         alpha: 0.25\n",
       "       }\n",
       "     }\n",
       "     classification_weight: 1.0\n",
       "     localization_weight: 1.0\n",
       "   }\n",
       "   encode_background_as_zeros: true\n",
       "   normalize_loc_loss_by_codesize: true\n",
       "   inplace_batchnorm_update: true\n",
       "   freeze_batchnorm: false\n",
       " },\n",
       " 'train_config': batch_size: 4\n",
       " data_augmentation_options {\n",
       "   random_horizontal_flip {\n",
       "   }\n",
       " }\n",
       " data_augmentation_options {\n",
       "   random_crop_image {\n",
       "     min_object_covered: 0.0\n",
       "     min_aspect_ratio: 0.75\n",
       "     max_aspect_ratio: 3.0\n",
       "     min_area: 0.75\n",
       "     max_area: 1.0\n",
       "     overlap_thresh: 0.0\n",
       "   }\n",
       " }\n",
       " sync_replicas: true\n",
       " optimizer {\n",
       "   momentum_optimizer {\n",
       "     learning_rate {\n",
       "       cosine_decay_learning_rate {\n",
       "         learning_rate_base: 0.07999999821186066\n",
       "         total_steps: 50000\n",
       "         warmup_learning_rate: 0.026666000485420227\n",
       "         warmup_steps: 1000\n",
       "       }\n",
       "     }\n",
       "     momentum_optimizer_value: 0.8999999761581421\n",
       "   }\n",
       "   use_moving_average: false\n",
       " }\n",
       " fine_tune_checkpoint: \"ssd_mobilenet_v2_fpnlite_320x320_coco17_tpu-8\\\\checkpoint\\\\ckpt-0\"\n",
       " num_steps: 50000\n",
       " startup_delay_steps: 0.0\n",
       " replicas_to_aggregate: 8\n",
       " max_number_of_boxes: 100\n",
       " unpad_groundtruth_tensors: false\n",
       " fine_tune_checkpoint_type: \"detection\"\n",
       " fine_tune_checkpoint_version: V2,\n",
       " 'train_input_config': label_map_path: \"label_map.pbtxt\"\n",
       " tf_record_input_reader {\n",
       "   input_path: \"annotations\\\\train.record\"\n",
       " },\n",
       " 'eval_config': metrics_set: \"coco_detection_metrics\"\n",
       " use_moving_averages: false,\n",
       " 'eval_input_configs': [label_map_path: \"label_map.pbtxt\"\n",
       " shuffle: false\n",
       " num_epochs: 1\n",
       " tf_record_input_reader {\n",
       "   input_path: \"annotations\\\\val.record\"\n",
       " }\n",
       " ],\n",
       " 'eval_input_config': label_map_path: \"label_map.pbtxt\"\n",
       " shuffle: false\n",
       " num_epochs: 1\n",
       " tf_record_input_reader {\n",
       "   input_path: \"annotations\\\\val.record\"\n",
       " }}"
      ]
     },
     "execution_count": 3,
     "metadata": {},
     "output_type": "execute_result"
    }
   ],
   "source": [
    "config_path = r'model_config\\pipeline.config'\n",
    "\n",
    "configs = config_util.get_configs_from_pipeline_file(config_path)"
   ]
  },
  {
   "cell_type": "code",
   "execution_count": 29,
   "id": "402e3a2e",
   "metadata": {
    "ExecuteTime": {
     "end_time": "2023-03-16T20:36:25.123828Z",
     "start_time": "2023-03-16T20:36:25.109827Z"
    }
   },
   "outputs": [],
   "source": [
    "from object_detection.protos import pipeline_pb2\n",
    "from google.protobuf import text_format"
   ]
  },
  {
   "cell_type": "code",
   "execution_count": 30,
   "id": "00b85bfa",
   "metadata": {
    "ExecuteTime": {
     "end_time": "2023-03-16T20:36:37.392656Z",
     "start_time": "2023-03-16T20:36:37.360688Z"
    }
   },
   "outputs": [],
   "source": [
    "pipeline_config = pipeline_pb2.TrainEvalPipelineConfig()\n",
    "with tf.io.gfile.GFile(config_path, 'r') as f:\n",
    "    proto_str = f.read()\n",
    "    text_format.Merge(proto_str, pipeline_config)"
   ]
  },
  {
   "cell_type": "code",
   "execution_count": 31,
   "id": "c5f78f3c",
   "metadata": {
    "ExecuteTime": {
     "end_time": "2023-03-16T20:36:37.943444Z",
     "start_time": "2023-03-16T20:36:37.912012Z"
    }
   },
   "outputs": [],
   "source": [
    "pipeline_config.model.ssd.num_classes = len(labels)\n",
    "pipeline_config.train_config.batch_size = 4\n",
    "pipeline_config.train_config.fine_tune_checkpoint = os.path.join('ssd_mobilenet_v2_fpnlite_320x320_coco17_tpu-8', 'checkpoint', 'ckpt-0')\n",
    "pipeline_config.train_config.fine_tune_checkpoint_type = 'detection'\n",
    "pipeline_config.train_input_reader.label_map_path = label_map\n",
    "pipeline_config.train_input_reader.tf_record_input_reader.input_path[:] = [os.path.join('annotations', 'train.record')]\n",
    "pipeline_config.eval_input_reader[0].label_map_path = label_map\n",
    "pipeline_config.eval_input_reader[0].tf_record_input_reader.input_path[:] = [os.path.join('annotations', 'val.record')]"
   ]
  },
  {
   "cell_type": "code",
   "execution_count": 32,
   "id": "ece0207d",
   "metadata": {
    "ExecuteTime": {
     "end_time": "2023-03-16T20:36:38.619666Z",
     "start_time": "2023-03-16T20:36:38.591669Z"
    },
    "collapsed": true
   },
   "outputs": [
    {
     "data": {
      "text/plain": [
       "model {\n",
       "  ssd {\n",
       "    num_classes: 1\n",
       "    image_resizer {\n",
       "      fixed_shape_resizer {\n",
       "        height: 320\n",
       "        width: 320\n",
       "      }\n",
       "    }\n",
       "    feature_extractor {\n",
       "      type: \"ssd_mobilenet_v2_fpn_keras\"\n",
       "      depth_multiplier: 1.0\n",
       "      min_depth: 16\n",
       "      conv_hyperparams {\n",
       "        regularizer {\n",
       "          l2_regularizer {\n",
       "            weight: 3.9999998989515007e-05\n",
       "          }\n",
       "        }\n",
       "        initializer {\n",
       "          random_normal_initializer {\n",
       "            mean: 0.0\n",
       "            stddev: 0.009999999776482582\n",
       "          }\n",
       "        }\n",
       "        activation: RELU_6\n",
       "        batch_norm {\n",
       "          decay: 0.996999979019165\n",
       "          scale: true\n",
       "          epsilon: 0.0010000000474974513\n",
       "        }\n",
       "      }\n",
       "      use_depthwise: true\n",
       "      override_base_feature_extractor_hyperparams: true\n",
       "      fpn {\n",
       "        min_level: 3\n",
       "        max_level: 7\n",
       "        additional_layer_depth: 128\n",
       "      }\n",
       "    }\n",
       "    box_coder {\n",
       "      faster_rcnn_box_coder {\n",
       "        y_scale: 10.0\n",
       "        x_scale: 10.0\n",
       "        height_scale: 5.0\n",
       "        width_scale: 5.0\n",
       "      }\n",
       "    }\n",
       "    matcher {\n",
       "      argmax_matcher {\n",
       "        matched_threshold: 0.5\n",
       "        unmatched_threshold: 0.5\n",
       "        ignore_thresholds: false\n",
       "        negatives_lower_than_unmatched: true\n",
       "        force_match_for_each_row: true\n",
       "        use_matmul_gather: true\n",
       "      }\n",
       "    }\n",
       "    similarity_calculator {\n",
       "      iou_similarity {\n",
       "      }\n",
       "    }\n",
       "    box_predictor {\n",
       "      weight_shared_convolutional_box_predictor {\n",
       "        conv_hyperparams {\n",
       "          regularizer {\n",
       "            l2_regularizer {\n",
       "              weight: 3.9999998989515007e-05\n",
       "            }\n",
       "          }\n",
       "          initializer {\n",
       "            random_normal_initializer {\n",
       "              mean: 0.0\n",
       "              stddev: 0.009999999776482582\n",
       "            }\n",
       "          }\n",
       "          activation: RELU_6\n",
       "          batch_norm {\n",
       "            decay: 0.996999979019165\n",
       "            scale: true\n",
       "            epsilon: 0.0010000000474974513\n",
       "          }\n",
       "        }\n",
       "        depth: 128\n",
       "        num_layers_before_predictor: 4\n",
       "        kernel_size: 3\n",
       "        class_prediction_bias_init: -4.599999904632568\n",
       "        share_prediction_tower: true\n",
       "        use_depthwise: true\n",
       "      }\n",
       "    }\n",
       "    anchor_generator {\n",
       "      multiscale_anchor_generator {\n",
       "        min_level: 3\n",
       "        max_level: 7\n",
       "        anchor_scale: 4.0\n",
       "        aspect_ratios: 1.0\n",
       "        aspect_ratios: 2.0\n",
       "        aspect_ratios: 0.5\n",
       "        scales_per_octave: 2\n",
       "      }\n",
       "    }\n",
       "    post_processing {\n",
       "      batch_non_max_suppression {\n",
       "        score_threshold: 9.99999993922529e-09\n",
       "        iou_threshold: 0.6000000238418579\n",
       "        max_detections_per_class: 100\n",
       "        max_total_detections: 100\n",
       "        use_static_shapes: false\n",
       "      }\n",
       "      score_converter: SIGMOID\n",
       "    }\n",
       "    normalize_loss_by_num_matches: true\n",
       "    loss {\n",
       "      localization_loss {\n",
       "        weighted_smooth_l1 {\n",
       "        }\n",
       "      }\n",
       "      classification_loss {\n",
       "        weighted_sigmoid_focal {\n",
       "          gamma: 2.0\n",
       "          alpha: 0.25\n",
       "        }\n",
       "      }\n",
       "      classification_weight: 1.0\n",
       "      localization_weight: 1.0\n",
       "    }\n",
       "    encode_background_as_zeros: true\n",
       "    normalize_loc_loss_by_codesize: true\n",
       "    inplace_batchnorm_update: true\n",
       "    freeze_batchnorm: false\n",
       "  }\n",
       "}\n",
       "train_config {\n",
       "  batch_size: 4\n",
       "  data_augmentation_options {\n",
       "    random_horizontal_flip {\n",
       "    }\n",
       "  }\n",
       "  data_augmentation_options {\n",
       "    random_crop_image {\n",
       "      min_object_covered: 0.0\n",
       "      min_aspect_ratio: 0.75\n",
       "      max_aspect_ratio: 3.0\n",
       "      min_area: 0.75\n",
       "      max_area: 1.0\n",
       "      overlap_thresh: 0.0\n",
       "    }\n",
       "  }\n",
       "  sync_replicas: true\n",
       "  optimizer {\n",
       "    momentum_optimizer {\n",
       "      learning_rate {\n",
       "        cosine_decay_learning_rate {\n",
       "          learning_rate_base: 0.07999999821186066\n",
       "          total_steps: 50000\n",
       "          warmup_learning_rate: 0.026666000485420227\n",
       "          warmup_steps: 1000\n",
       "        }\n",
       "      }\n",
       "      momentum_optimizer_value: 0.8999999761581421\n",
       "    }\n",
       "    use_moving_average: false\n",
       "  }\n",
       "  fine_tune_checkpoint: \"ssd_mobilenet_v2_fpnlite_320x320_coco17_tpu-8\\\\checkpoint\\\\ckpt-0\"\n",
       "  num_steps: 50000\n",
       "  startup_delay_steps: 0.0\n",
       "  replicas_to_aggregate: 8\n",
       "  max_number_of_boxes: 100\n",
       "  unpad_groundtruth_tensors: false\n",
       "  fine_tune_checkpoint_type: \"detection\"\n",
       "  fine_tune_checkpoint_version: V2\n",
       "}\n",
       "train_input_reader {\n",
       "  label_map_path: \"label_map.pbtxt\"\n",
       "  tf_record_input_reader {\n",
       "    input_path: \"annotations\\\\train.record\"\n",
       "  }\n",
       "}\n",
       "eval_config {\n",
       "  metrics_set: \"coco_detection_metrics\"\n",
       "  use_moving_averages: false\n",
       "}\n",
       "eval_input_reader {\n",
       "  label_map_path: \"label_map.pbtxt\"\n",
       "  shuffle: false\n",
       "  num_epochs: 1\n",
       "  tf_record_input_reader {\n",
       "    input_path: \"annotations\\\\val.record\"\n",
       "  }\n",
       "}"
      ]
     },
     "execution_count": 32,
     "metadata": {},
     "output_type": "execute_result"
    }
   ],
   "source": [
    "pipeline_config"
   ]
  },
  {
   "cell_type": "code",
   "execution_count": 33,
   "id": "5251b291",
   "metadata": {
    "ExecuteTime": {
     "end_time": "2023-03-16T20:36:49.072853Z",
     "start_time": "2023-03-16T20:36:48.981823Z"
    }
   },
   "outputs": [],
   "source": [
    "config_text = text_format.MessageToString(pipeline_config)\n",
    "with tf.io.gfile.GFile(config_path, 'wb') as f:\n",
    "    f.write(config_text)"
   ]
  },
  {
   "cell_type": "markdown",
   "id": "c32fedf2",
   "metadata": {
    "ExecuteTime": {
     "end_time": "2023-02-27T06:23:30.329040Z",
     "start_time": "2023-02-27T06:23:30.308026Z"
    }
   },
   "source": [
    "## Train the model"
   ]
  },
  {
   "cell_type": "code",
   "execution_count": 34,
   "id": "c5a4540e",
   "metadata": {
    "ExecuteTime": {
     "end_time": "2023-03-16T20:36:50.967994Z",
     "start_time": "2023-03-16T20:36:50.946995Z"
    }
   },
   "outputs": [],
   "source": [
    "Training_script = r'C:\\Users\\SHOCKER\\tensorflow_projects\\models\\research\\object_detection\\model_main_tf2.py'"
   ]
  },
  {
   "cell_type": "code",
   "execution_count": 35,
   "id": "a670c1e2",
   "metadata": {
    "ExecuteTime": {
     "end_time": "2023-03-16T20:36:51.982750Z",
     "start_time": "2023-03-16T20:36:51.954754Z"
    }
   },
   "outputs": [
    {
     "data": {
      "text/plain": [
       "'python C:\\\\Users\\\\SHOCKER\\\\tensorflow_projects\\\\models\\\\research\\\\object_detection\\\\model_main_tf2.py --model_dir=model_config --pipeline_config_path=model_config\\\\pipeline.config --num_train_steps=5000'"
      ]
     },
     "execution_count": 35,
     "metadata": {},
     "output_type": "execute_result"
    }
   ],
   "source": [
    "command = \"python {} --model_dir={} --pipeline_config_path={} --num_train_steps=5000\".format(Training_script,\n",
    "                                                                                             'model_config', config_path)\n",
    "command"
   ]
  },
  {
   "cell_type": "code",
   "execution_count": 15,
   "id": "0572be3e",
   "metadata": {
    "ExecuteTime": {
     "end_time": "2023-02-28T23:15:28.289201Z",
     "start_time": "2023-02-28T23:11:05.996544Z"
    }
   },
   "outputs": [
    {
     "name": "stdout",
     "output_type": "stream",
     "text": [
      "^C\n"
     ]
    }
   ],
   "source": [
    "!{command}"
   ]
  },
  {
   "cell_type": "markdown",
   "id": "23b735e0",
   "metadata": {},
   "source": [
    "## Load checkpoint"
   ]
  },
  {
   "cell_type": "code",
   "execution_count": 4,
   "id": "2bb4fd28",
   "metadata": {
    "ExecuteTime": {
     "end_time": "2023-03-20T15:36:31.767011Z",
     "start_time": "2023-03-20T15:36:28.840954Z"
    }
   },
   "outputs": [
    {
     "data": {
      "text/plain": [
       "<tensorflow.python.checkpoint.checkpoint.CheckpointLoadStatus at 0x21063acc340>"
      ]
     },
     "execution_count": 4,
     "metadata": {},
     "output_type": "execute_result"
    }
   ],
   "source": [
    "configs = config_util.get_configs_from_pipeline_file(config_path)\n",
    "detection_model = model_builder.build(model_config=configs['model'], is_training=False)\n",
    "\n",
    "ckpt = tf.compat.v2.train.Checkpoint(model=detection_model)\n",
    "ckpt.restore(os.path.join('model_config', 'ckpt-6')).expect_partial()\n",
    "\n"
   ]
  },
  {
   "cell_type": "code",
   "execution_count": 5,
   "id": "3dfc7b3e",
   "metadata": {
    "ExecuteTime": {
     "end_time": "2023-03-20T15:36:31.813048Z",
     "start_time": "2023-03-20T15:36:31.803021Z"
    }
   },
   "outputs": [],
   "source": [
    "@tf.function\n",
    "def detect_image(image):\n",
    "    images, shapes = detection_model.preprocess(image)\n",
    "    prediction_dict = detection_model.predict(images, shapes)\n",
    "    detections = detection_model.postprocess(prediction_dict, shapes)\n",
    "    return detections"
   ]
  },
  {
   "cell_type": "code",
   "execution_count": 6,
   "id": "7a8d4f7b",
   "metadata": {
    "ExecuteTime": {
     "end_time": "2023-03-20T15:36:32.099036Z",
     "start_time": "2023-03-20T15:36:31.843117Z"
    }
   },
   "outputs": [],
   "source": [
    "category_index = label_map_util.create_category_index_from_labelmap(label_map)"
   ]
  },
  {
   "cell_type": "code",
   "execution_count": 11,
   "id": "e8854163",
   "metadata": {
    "ExecuteTime": {
     "end_time": "2023-03-20T15:47:30.247195Z",
     "start_time": "2023-03-20T15:47:30.231171Z"
    }
   },
   "outputs": [],
   "source": [
    "from scipy.spatial import distance as dist\n",
    "\n",
    "def midpoint(coords):\n",
    "    return ((coords[0] + coords[2])*0.5, (coords[1]+coords[3])*0.5)\n",
    "\n",
    "def midline(ptA, ptB):\n",
    "    return ((ptA[0] + ptB[0]) * 0.5, (ptA[1] + ptB[1]) * 0.5)"
   ]
  },
  {
   "cell_type": "markdown",
   "id": "be26b0bf",
   "metadata": {},
   "source": [
    "## Show detections and try to find the distance between two covers"
   ]
  },
  {
   "cell_type": "code",
   "execution_count": 78,
   "id": "aa4cdb7e",
   "metadata": {
    "ExecuteTime": {
     "end_time": "2023-03-21T09:09:08.737220Z",
     "start_time": "2023-03-21T09:09:08.695194Z"
    }
   },
   "outputs": [],
   "source": [
    "def display(frame):\n",
    "    img = np.array(frame)\n",
    "    h = tf.shape(img)[0]\n",
    "    w = tf.shape(img)[1]\n",
    "    input_tensor = tf.convert_to_tensor(np.expand_dims(img, 0), dtype=tf.float32)\n",
    "\n",
    "    scores = []\n",
    "    coordinates = []\n",
    "    detections = detect_image(input_tensor)\n",
    "\n",
    "    num_detections = int(detections.pop('num_detections'))\n",
    "    detections = {key: value[0, :num_detections].numpy() for key, value in detections.items()}\n",
    "\n",
    "\n",
    "    detections['num_detections'] = num_detections\n",
    "\n",
    "    detections['detection_classes'] = detections['detection_classes'].astype(np.int64)\n",
    "\n",
    "    for i in range(num_detections):\n",
    "        if detections['detection_scores'][i]  > 0.7:\n",
    "            scores.append(detections['detection_scores'][i])\n",
    "            coordinates.append(detections['detection_boxes'][i])\n",
    "    coords = {}\n",
    "    midpoints = {}\n",
    "    for i in range(len(coordinates)):\n",
    "        coords[f\"{i}\"] = np.multiply(coordinates[i], [h, w, h, w])\n",
    "        coords[f\"{i}\"] = coords[f\"{i}\"][::-1]\n",
    "        midpoints[f\"{i}\"] = midpoint(coords[f\"{i}\"])\n",
    "    \n",
    "    pivot = midpoints['0']\n",
    "    print(pivot)   \n",
    "    for i in range(len(coords)):\n",
    "        d = dist.euclidean(pivot, midpoints[f\"{i}\"])\n",
    "        if d > 1.0:\n",
    "            d_in_centimeters = d*(28.57/np.array(w))\n",
    "    label_id_offset = 1\n",
    "    image_np_with_detections = img.copy()\n",
    "    \n",
    "    viz_utils.visualize_boxes_and_labels_on_image_array(\n",
    "        image_np_with_detections,\n",
    "        detections['detection_boxes'],\n",
    "        detections['detection_classes']+label_id_offset,\n",
    "        detections['detection_scores'],\n",
    "        category_index,\n",
    "        use_normalized_coordinates=True,\n",
    "        max_boxes_to_draw = 5,\n",
    "        min_score_thresh = 0.7,\n",
    "        agnostic_mode=False\n",
    "    )\n",
    "    cv2.circle(image_np_with_detections, np.array(pivot).astype(int), 10, (240, 0, 159), -1)\n",
    "    \n",
    "    for i in range(len(midpoints) - 1):\n",
    "        cv2.circle(image_np_with_detections, np.array(midpoints[f\"{i+1}\"]).astype(int), 10, (240, 0, 159), -1)\n",
    "      \n",
    "        cv2.line(image_np_with_detections, np.array(pivot).astype(int),\n",
    "                 np.array(midpoints[f\"{i+1}\"]).astype(int), (240, 0, 159), 3)\n",
    "        mx, my = midline(pivot, midpoints[f\"{i+1}\"])\n",
    "        cv2.putText(image_np_with_detections, \"{:.1f}cm\".format(d_in_centimeters), (int(mx), int(my+20)),\n",
    "               cv2.FONT_HERSHEY_SIMPLEX, 0.79, (240, 0, 159), 2)\n",
    "        \n",
    "    return image_np_with_detections"
   ]
  },
  {
   "cell_type": "code",
   "execution_count": 85,
   "id": "fe0a312e",
   "metadata": {
    "ExecuteTime": {
     "end_time": "2023-03-21T09:36:48.598915Z",
     "start_time": "2023-03-21T09:36:01.039896Z"
    }
   },
   "outputs": [
    {
     "name": "stdout",
     "output_type": "stream",
     "text": [
      "(1027.9853439331055, 549.3960785865784)\n",
      "(1020.2499675750732, 549.5605516433716)\n",
      "(1014.7858428955078, 549.1050964593887)\n",
      "(1009.3914413452148, 549.3159180879593)\n",
      "(1006.882209777832, 550.0451517105103)\n",
      "(1000.1617813110352, 549.8967558145523)\n",
      "(998.0574131011963, 551.5611362457275)\n",
      "(985.1931095123291, 554.5287483930588)\n",
      "(977.0895481109619, 557.9789972305298)\n",
      "(972.1593475341797, 559.0154027938843)\n",
      "(967.9445171356201, 566.0334938764572)\n",
      "(965.7195281982422, 570.0502252578735)\n",
      "(967.1874332427979, 573.8768792152405)\n",
      "(961.9137954711914, 579.2887669801712)\n",
      "(965.593957901001, 579.9753856658936)\n",
      "(966.2694454193115, 581.4763230085373)\n",
      "(966.0959243774414, 583.3514446020126)\n",
      "(966.6233825683594, 584.5263808965683)\n",
      "(967.9680919647217, 585.1937359571457)\n",
      "(969.8939895629883, 584.5196056365967)\n",
      "(973.912239074707, 584.4683647155762)\n",
      "(981.0898590087891, 586.4752578735352)\n",
      "(989.24560546875, 588.3225864171982)\n",
      "(997.7882766723633, 588.6016273498535)\n",
      "(1009.3202590942383, 588.7866353988647)\n",
      "(1015.7979583740234, 597.6884418725967)\n",
      "(1025.1701259613037, 604.7147727012634)\n",
      "(1039.4448852539062, 611.9488835334778)\n",
      "(1044.264907836914, 618.6315107345581)\n",
      "(1044.1492080688477, 627.406325340271)\n",
      "(1049.3615341186523, 632.7152323722839)\n",
      "(1051.6524124145508, 639.5927810668945)\n",
      "(1053.3924865722656, 648.6944818496704)\n",
      "(1058.1005859375, 654.9771595001221)\n",
      "(1061.9217681884766, 669.5250105857849)\n",
      "(1063.0804824829102, 681.6942143440247)\n",
      "(1060.2896118164062, 680.6985569000244)\n",
      "(1036.9248676300049, 685.5155897140503)\n",
      "(1023.497200012207, 697.271454334259)\n",
      "(1028.0968379974365, 714.3068075180054)\n",
      "(1043.2902145385742, 726.0559773445129)\n",
      "(1045.4475402832031, 734.8448252677917)\n",
      "(1046.0163116455078, 741.1802244186401)\n",
      "(1050.7204055786133, 752.1448159217834)\n",
      "(1048.3652114868164, 762.0409440994263)\n",
      "(1050.5219650268555, 768.4433555603027)\n",
      "(1050.5243682861328, 772.2525000572205)\n",
      "(1049.7898864746094, 778.0758118629456)\n",
      "(1052.7220916748047, 782.078332901001)\n",
      "(1058.1861877441406, 785.3610348701477)\n",
      "(1061.5070343017578, 786.4114737510681)\n",
      "(1058.1754302978516, 792.6633810997009)\n",
      "(1069.9485397338867, 793.258638381958)\n",
      "(1071.1618423461914, 798.4044241905212)\n",
      "(1078.5146713256836, 800.0700759887695)\n",
      "(1081.8389511108398, 802.6988124847412)\n",
      "(1090.1672744750977, 807.0358157157898)\n",
      "(1099.027976989746, 808.3558487892151)\n",
      "(1106.9660568237305, 809.3269157409668)\n",
      "(1112.2875595092773, 807.2039580345154)\n",
      "(1126.929588317871, 809.5923256874084)\n",
      "(1145.9196853637695, 806.1246800422668)\n",
      "(1153.9023971557617, 802.9273366928101)\n",
      "(1158.3594131469727, 801.5838074684143)\n",
      "(1170.022087097168, 797.4961853027344)\n",
      "(1180.9502792358398, 794.3948864936829)\n",
      "(1187.8847122192383, 787.5882768630981)\n",
      "(1191.093978881836, 781.1993193626404)\n",
      "(1196.7070770263672, 771.6502904891968)\n",
      "(1203.1846618652344, 767.0024299621582)\n",
      "(1207.9522705078125, 764.0439748764038)\n",
      "(1209.8424911499023, 766.1689925193787)\n",
      "(1217.691535949707, 770.5553698539734)\n",
      "(1223.1801223754883, 775.5997681617737)\n",
      "(1224.5592498779297, 781.4760589599609)\n",
      "(1226.6468811035156, 788.1160068511963)\n",
      "(1219.672966003418, 793.3446407318115)\n",
      "(1208.254508972168, 798.3814430236816)\n",
      "(1197.3627090454102, 807.3841381072998)\n",
      "(1182.9559707641602, 815.9207081794739)\n",
      "(855.7147407531738, 479.74754869937897)\n",
      "(1145.522804260254, 830.244026184082)\n",
      "(1129.9610137939453, 842.4378204345703)\n",
      "(1115.1800537109375, 851.3352012634277)\n",
      "(1110.571174621582, 856.9254183769226)\n",
      "(1108.0129623413086, 865.4827165603638)\n",
      "(1107.3733520507812, 874.5969700813293)\n",
      "(1108.787956237793, 878.5385298728943)\n",
      "(1111.5531921386719, 882.9046297073364)\n",
      "(1120.0650787353516, 884.3971824645996)\n",
      "(1125.8475494384766, 884.3381524085999)\n",
      "(1131.8356704711914, 883.9025402069092)\n",
      "(1138.1957244873047, 879.7641921043396)\n",
      "(1142.255744934082, 872.7991604804993)\n",
      "(1146.8507766723633, 866.4766359329224)\n",
      "(1149.858741760254, 858.8189506530762)\n",
      "(1153.8076400756836, 851.9600701332092)\n",
      "(1154.6771621704102, 847.9843926429749)\n",
      "(1154.7296905517578, 846.148796081543)\n",
      "(1151.5544128417969, 844.1162180900574)\n",
      "(1150.2326202392578, 843.275957107544)\n",
      "(1147.7327728271484, 842.46009349823)\n",
      "(1139.5064163208008, 843.1674885749817)\n",
      "(1135.2122497558594, 842.9880166053772)\n",
      "(1129.6893310546875, 843.695604801178)\n",
      "(1122.0703125, 844.4870710372925)\n",
      "(1115.2495193481445, 842.4181222915649)\n",
      "(1112.563591003418, 844.3295502662659)\n",
      "(1112.310562133789, 844.2000317573547)\n",
      "(1113.1111907958984, 844.2774724960327)\n"
     ]
    }
   ],
   "source": [
    "video_path = 'vid3.mp4'\n",
    "src = cv2.VideoCapture(str(video_path))\n",
    "video_length = src.get(cv2.CAP_PROP_FRAME_COUNT)\n",
    "\n",
    "for i in range(150):\n",
    "    ret, frame = src.read()\n",
    "    if ret:\n",
    "        cv2.imwrite('image.png', frame)\n",
    "        image_np = display(frame)\n",
    "        # Display output\n",
    "        cv2.imshow('object detection', cv2.resize(image_np, (800, 600)))\n",
    "\n",
    "        if cv2.waitKey(25) & 0xFF == ord('q'):\n",
    "            break\n",
    "\n",
    "src.release()\n",
    "cv2.destroyAllWindows()\n",
    "        "
   ]
  },
  {
   "cell_type": "code",
   "execution_count": null,
   "id": "3e19d6d0",
   "metadata": {},
   "outputs": [],
   "source": []
  }
 ],
 "metadata": {
  "kernelspec": {
   "display_name": "Python 3 (ipykernel)",
   "language": "python",
   "name": "python3"
  },
  "language_info": {
   "codemirror_mode": {
    "name": "ipython",
    "version": 3
   },
   "file_extension": ".py",
   "mimetype": "text/x-python",
   "name": "python",
   "nbconvert_exporter": "python",
   "pygments_lexer": "ipython3",
   "version": "3.9.0"
  },
  "varInspector": {
   "cols": {
    "lenName": 16,
    "lenType": 16,
    "lenVar": 40
   },
   "kernels_config": {
    "python": {
     "delete_cmd_postfix": "",
     "delete_cmd_prefix": "del ",
     "library": "var_list.py",
     "varRefreshCmd": "print(var_dic_list())"
    },
    "r": {
     "delete_cmd_postfix": ") ",
     "delete_cmd_prefix": "rm(",
     "library": "var_list.r",
     "varRefreshCmd": "cat(var_dic_list()) "
    }
   },
   "types_to_exclude": [
    "module",
    "function",
    "builtin_function_or_method",
    "instance",
    "_Feature"
   ],
   "window_display": false
  }
 },
 "nbformat": 4,
 "nbformat_minor": 5
}
